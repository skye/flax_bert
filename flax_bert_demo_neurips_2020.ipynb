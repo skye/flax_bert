{
 "cells": [
  {
   "cell_type": "markdown",
   "metadata": {},
   "source": [
    "# Fine-tuning BERT in Flax on GLUE\n",
    "\n",
    "This notebook fine-tunes a BERT model one of the [GLUE tasks](https://gluebenchmark.com/). It has the following features:\n",
    "\n",
    "*   Uses the [HuggingFace](https://github.com/huggingface/) datasets and tokenizers libraries.\n",
    "*   Loads the pre-trained BERT weights from HuggingFace.\n",
    "*   Model and training code is written in [Flax](http://www.github.com/google/flax).\n",
    "*   Can be configured to fine-tune on COLA, MRPC, SST2, STSB, QNLI, and RTE.\n",
    "\n",
    "Run-times on MRPC:\n",
    "\n",
    "*   Cloud TPU v3-8: 40s"
   ]
  },
  {
   "cell_type": "markdown",
   "metadata": {},
   "source": [
    "## Training Settings"
   ]
  },
  {
   "cell_type": "code",
   "execution_count": 1,
   "metadata": {},
   "outputs": [],
   "source": [
    "# TODO: either use HF config or unify this in another way\n",
    "train_settings = {\n",
    "    'train_batch_size': 32,\n",
    "    'eval_batch_size': 8,\n",
    "    'learning_rate': 5e-5,\n",
    "    'num_train_epochs': 3,\n",
    "    'dataset_path': 'glue',\n",
    "    'dataset_name': 'mrpc'  # ['cola', 'mrpc', 'sst2', 'stsb', 'qnli', 'rte']\n",
    "}"
   ]
  },
  {
   "cell_type": "markdown",
   "metadata": {},
   "source": [
    "## Create HuggingFace dataset, tokenizer, and pre-processing pipeline"
   ]
  },
  {
   "cell_type": "code",
   "execution_count": 2,
   "metadata": {},
   "outputs": [
    {
     "name": "stderr",
     "output_type": "stream",
     "text": [
      "Reusing dataset glue (/home/skyewm/.cache/huggingface/datasets/glue/mrpc/1.0.0/7c99657241149a24692c402a5c3f34d4c9f1df5ac2e4c3759fadea38f6cb29c4)\n",
      "Loading cached processed dataset at /home/skyewm/.cache/huggingface/datasets/glue/mrpc/1.0.0/7c99657241149a24692c402a5c3f34d4c9f1df5ac2e4c3759fadea38f6cb29c4/cache-319515621adfe7f0.arrow\n",
      "Loading cached processed dataset at /home/skyewm/.cache/huggingface/datasets/glue/mrpc/1.0.0/7c99657241149a24692c402a5c3f34d4c9f1df5ac2e4c3759fadea38f6cb29c4/cache-53b8739ff1af4dc2.arrow\n",
      "Loading cached processed dataset at /home/skyewm/.cache/huggingface/datasets/glue/mrpc/1.0.0/7c99657241149a24692c402a5c3f34d4c9f1df5ac2e4c3759fadea38f6cb29c4/cache-f72c7188db37a2b9.arrow\n"
     ]
    }
   ],
   "source": [
    "import os\n",
    "os.environ['TOKENIZERS_PARALLELISM'] = 'true'\n",
    "# os.environ['XLA_FLAGS'] = '--xla_multiheap_size_constraint_per_heap=-1'\n",
    "\n",
    "# HF imports\n",
    "import datasets\n",
    "from transformers import BertTokenizerFast\n",
    "# Demo imports\n",
    "import data\n",
    "from demo_lib import get_config\n",
    "\n",
    "dataset = datasets.load_dataset('glue', train_settings['dataset_name'])\n",
    "\n",
    "config = get_config('bert-base-uncased', dataset)\n",
    "config.update(train_settings)\n",
    "tokenizer = BertTokenizerFast.from_pretrained(config.tokenizer)\n",
    "tokenizer.model_max_length = config.max_seq_length\n",
    "\n",
    "data_pipeline = data.ClassificationDataPipeline(dataset, tokenizer)\n",
    "train_iter = data_pipeline.get_inputs(\n",
    "  split='train', batch_size=config.train_batch_size, training=True)"
   ]
  },
  {
   "cell_type": "markdown",
   "metadata": {},
   "source": [
    "## Create flax model and optimizer"
   ]
  },
  {
   "cell_type": "code",
   "execution_count": 3,
   "metadata": {},
   "outputs": [
    {
     "name": "stdout",
     "output_type": "stream",
     "text": [
      "loading weights file https://huggingface.co/bert-base-uncased/resolve/main/pytorch_model.bin from cache at /home/skyewm/.cache/huggingface/transformers/a8041bf617d7f94ea26d15e218abd04afc2004805632abc0ed2066aa16d50d04.faf6ea826ae9c5867d12b22257f9877e6b8367890837bd60f7c54a29633f7f2f\n"
     ]
    }
   ],
   "source": [
    "from demo_lib import import_pretrained_params, create_model, create_optimizer\n",
    "\n",
    "# TODO: inline some or all of this; TODO: what is flax\n",
    "pretrained_params = import_pretrained_params(config)\n",
    "model = create_model(config, pretrained_params)\n",
    "optimizer = create_optimizer(config, model, pretrained_params)"
   ]
  },
  {
   "cell_type": "markdown",
   "metadata": {},
   "source": [
    "## Set up training step function"
   ]
  },
  {
   "cell_type": "code",
   "execution_count": 4,
   "metadata": {},
   "outputs": [
    {
     "name": "stdout",
     "output_type": "stream",
     "text": [
      "Num train examples: 3668\n"
     ]
    }
   ],
   "source": [
    "# Demo imports\n",
    "import training\n",
    "from demo_lib import get_num_train_steps, get_learning_rate_fn\n",
    "\n",
    "# TODO: remove train history and maybe train state\n",
    "num_train_steps = get_num_train_steps(config, data_pipeline)\n",
    "learning_rate_fn = get_learning_rate_fn(config, num_train_steps)\n",
    "train_history = training.TrainStateHistory(learning_rate_fn)\n",
    "train_state = train_history.initial_state()\n",
    "\n",
    "# TODO: move pmap out of create_train_step\n",
    "train_step_fn = training.create_train_step(clip_grad_norm=1.0)"
   ]
  },
  {
   "cell_type": "markdown",
   "metadata": {},
   "source": [
    "## Run Training"
   ]
  },
  {
   "cell_type": "code",
   "execution_count": 5,
   "metadata": {},
   "outputs": [
    {
     "name": "stdout",
     "output_type": "stream",
     "text": [
      "\n",
      "Starting training on mrpc for 343 steps (3 epochs)...\n",
      "\n",
      "Compiling train (takes about 20s)\n",
      "compiling train_step\n",
      "done 23.806512117385864\n",
      "Step 0       grad_norm = 4.391973972320557\n",
      "             loss = 0.42315247654914856\n",
      "step 0/343\n",
      "step 10/343\n",
      "step 20/343\n",
      "step 30/343\n",
      "step 40/343\n",
      "step 50/343\n",
      "step 60/343\n",
      "step 70/343\n",
      "step 80/343\n",
      "step 90/343\n",
      "step 100/343\n",
      "step 110/343\n",
      "step 120/343\n",
      "step 130/343\n",
      "step 140/343\n",
      "step 150/343\n",
      "step 160/343\n",
      "step 170/343\n",
      "step 180/343\n",
      "step 190/343\n",
      "Step 200     grad_norm = 18.06053924560547\n",
      "             loss = 0.9341562986373901\n",
      "             seconds_per_step = 0.06082286685705185\n",
      "step 200/343\n",
      "step 210/343\n",
      "step 220/343\n",
      "step 230/343\n",
      "step 240/343\n",
      "step 250/343\n",
      "step 260/343\n",
      "step 270/343\n",
      "step 280/343\n",
      "step 290/343\n",
      "step 300/343\n",
      "step 310/343\n",
      "step 320/343\n",
      "step 330/343\n",
      "step 340/343\n",
      "\n",
      "Training finished!\n"
     ]
    }
   ],
   "source": [
    "print(f'\\nStarting training on {config.dataset_name} for {num_train_steps} '\n",
    "      f'steps ({config.num_train_epochs:.0f} epochs)...\\n')\n",
    "\n",
    "for step, batch in zip(range(0, num_train_steps), train_iter):\n",
    "  optimizer, train_state = train_step_fn(optimizer, batch, train_state)\n",
    "  if step % 10 == 0:\n",
    "    print(f'step {step}/{num_train_steps}')\n",
    "\n",
    "print('\\nTraining finished!')"
   ]
  },
  {
   "cell_type": "markdown",
   "metadata": {},
   "source": [
    "## Run Evaluation\n",
    "\n",
    "The target eval_f1 for MRPC is 88.9 (variance of about 1.0)."
   ]
  },
  {
   "cell_type": "code",
   "execution_count": 6,
   "metadata": {},
   "outputs": [
    {
     "name": "stdout",
     "output_type": "stream",
     "text": [
      "compiling compute_classification_stats\n",
      "done 2.0442707538604736\n",
      "eval_accuracy = 0.850490\n",
      "eval_f1 = 0.896785\n"
     ]
    }
   ],
   "source": [
    "# demo imports\n",
    "from demo_lib import get_validation_splits, get_prefix\n",
    "\n",
    "# TODO: inline eval_fn\n",
    "eval_fn = training.create_eval_fn()\n",
    "\n",
    "for split in get_validation_splits(config.dataset_name):\n",
    "  eval_iter = data_pipeline.get_inputs(\n",
    "      split='validation', batch_size=config.eval_batch_size, training=False)\n",
    "  eval_stats = eval_fn(optimizer, eval_iter)\n",
    "  eval_metric = datasets.load_metric(config.dataset_path, config.dataset_name)\n",
    "  eval_metric.add_batch(\n",
    "    predictions=eval_stats['prediction'],\n",
    "    references=eval_stats['label'])\n",
    "  eval_metrics = eval_metric.compute()\n",
    "  for name, val in sorted(eval_metrics.items()):\n",
    "    print(f'{get_prefix(split)}_{name} = {val:.06f}', flush=True)"
   ]
  },
  {
   "cell_type": "code",
   "execution_count": null,
   "metadata": {},
   "outputs": [],
   "source": []
  }
 ],
 "metadata": {
  "kernelspec": {
   "display_name": "Python 3",
   "language": "python",
   "name": "python3"
  },
  "language_info": {
   "codemirror_mode": {
    "name": "ipython",
    "version": 3
   },
   "file_extension": ".py",
   "mimetype": "text/x-python",
   "name": "python",
   "nbconvert_exporter": "python",
   "pygments_lexer": "ipython3",
   "version": "3.6.9"
  }
 },
 "nbformat": 4,
 "nbformat_minor": 4
}
